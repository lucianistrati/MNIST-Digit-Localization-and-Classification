{
  "nbformat": 4,
  "nbformat_minor": 0,
  "metadata": {
    "colab": {
      "name": "Copie a blocnotesului Lab_03 (solved).ipynb",
      "provenance": [],
      "collapsed_sections": [],
      "toc_visible": true
    },
    "kernelspec": {
      "name": "python3",
      "display_name": "Python 3"
    },
    "accelerator": "GPU"
  },
  "cells": [
    {
      "cell_type": "markdown",
      "metadata": {
        "id": "-hfuTtQyfHt7"
      },
      "source": [
        "In this lab we will tackle two tasks: \n",
        "  - image classification: what is the object in the center of a picture?\n",
        "  - localisation: where is the object in a larger picture?\n",
        "\n",
        "Firstly we will train a small convolutional network to classify digits on MNIST dataset. \n",
        "Then we will use this network as a starting point for a new model used to localise a digit in an image containing noise. This is an artificial task but it is a good example to investigate aspects of transfer learning. \n",
        "\n",
        "In other, more challenging tasks we can follow a similar aproach:\n",
        "  - get a model trained on a simpler tasks, or a tasks where we have more data\n",
        "  - use a part of the pretrained model and incorporate it into a model designed for current task\n",
        "  - freeze the pretrained part or finetune it"
      ]
    },
    {
      "cell_type": "code",
      "metadata": {
        "id": "ZA5bE8IgeXbd",
        "colab": {
          "base_uri": "https://localhost:8080/"
        },
        "outputId": "7e8ad42a-b771-4ccd-af46-9ff2fce413c2"
      },
      "source": [
        "from __future__ import print_function\n",
        "import argparse\n",
        "import torch\n",
        "import torch.nn as nn\n",
        "import torch.nn.functional as F\n",
        "import torch.optim as optim\n",
        "from torchvision import datasets, transforms\n",
        "from IPython.core.debugger import set_trace\n",
        "import numpy as np\n",
        "from matplotlib import pyplot\n",
        "# we need google drive access to upload the datasets\n",
        "from google.colab import drive\n",
        "drive.mount('/content/gdrive')"
      ],
      "execution_count": 1,
      "outputs": [
        {
          "output_type": "stream",
          "text": [
            "Mounted at /content/gdrive\n"
          ],
          "name": "stdout"
        }
      ]
    },
    {
      "cell_type": "code",
      "metadata": {
        "id": "_xe3Z-6nfBby"
      },
      "source": [
        "# Training settings    \n",
        "kwargs={}\n",
        "class Args():\n",
        "  def __init__(self):\n",
        "      self.batch_size = 64\n",
        "      self.test_batch_size = 64\n",
        "      self.epochs = 3\n",
        "      self.lr = 0.01\n",
        "      self.momentum = 0.9\n",
        "      self.seed = 1\n",
        "      self.log_interval = int(10000 / self.batch_size)\n",
        "      self.cuda = False\n",
        "\n",
        "args = Args()\n",
        "\n",
        "use_cuda = torch.cuda.is_available()\n",
        "torch.manual_seed(args.seed)\n",
        "device = torch.device(\"cuda\" if use_cuda else \"cpu\")\n",
        "\n",
        "kwargs = {'num_workers': 1, 'pin_memory': True} if use_cuda else {}"
      ],
      "execution_count": 35,
      "outputs": []
    },
    {
      "cell_type": "markdown",
      "metadata": {
        "id": "n13dRljk1xvg"
      },
      "source": [
        "In order to familiarize ourselfs with the operations used in convolutional networks, lets take some random data and apply some common operations upon them. "
      ]
    },
    {
      "cell_type": "code",
      "metadata": {
        "id": "5ODw3iF4j93d",
        "colab": {
          "base_uri": "https://localhost:8080/"
        },
        "outputId": "2c6d5ab3-396e-4ea1-d083-6ff98e534b67"
      },
      "source": [
        "x = torch.tensor([[5,4,3,2,1],[8,5,7,1,2]])\n",
        "print(x)\n",
        "print(f'tensor x has shape: {x.shape}')\n",
        "\n",
        "m1, ind1 = torch.max(x, dim=0)\n",
        "m2, ind2 = torch.max(x, dim=1)\n",
        "\n",
        "print(f'max over first dimmension: {m1}')\n",
        "print(f'max over second dimmension: {m2}')"
      ],
      "execution_count": 36,
      "outputs": [
        {
          "output_type": "stream",
          "text": [
            "tensor([[5, 4, 3, 2, 1],\n",
            "        [8, 5, 7, 1, 2]])\n",
            "tensor x has shape: torch.Size([2, 5])\n",
            "max over first dimmension: tensor([8, 5, 7, 2, 2])\n",
            "max over second dimmension: tensor([5, 8])\n"
          ],
          "name": "stdout"
        }
      ]
    },
    {
      "cell_type": "markdown",
      "metadata": {
        "id": "IJ5bTcHOsj3w"
      },
      "source": [
        "We start with samples having dim_in = 1000 features. We create a tensor, usualy called a batch, having dimensions $batch\\_size \\times dim_{in} = 64 \\times 1000$ with $batch\\_size$ samples, each having size $dim\\_{in}$. All the operations of a neural network will be applied independently on each sample of the bach."
      ]
    },
    {
      "cell_type": "code",
      "metadata": {
        "id": "k71HHFwW1yNH",
        "colab": {
          "base_uri": "https://localhost:8080/"
        },
        "outputId": "07d7d3da-6936-481b-de1e-410029a3de9f"
      },
      "source": [
        "# torch.rand creates a tensor containing numbers distributed uniformly in [0,1]\n",
        "data = torch.rand(args.batch_size, 1000)\n",
        "\n",
        "# nn.linear creates a fully-connected layer (linear layer) implementing the \n",
        "# function y = W x + b for every vector x in the input\n",
        "# it is defined by the parameters: weights W of size [100,1000] and bias b of size 100\n",
        "# it lineary projects the input x of size 1000 into the output y of size 100\n",
        "\n",
        "# create the fully connected operation:\n",
        "linear_op = nn.Linear(in_features = 1000, out_features = 100)\n",
        "\n",
        "# linear is applied independently on every element in data\n",
        "# input data has shape batch_size x 1000 - a number of batch_size vectors of size 1000. \n",
        "# From every such vector the linear operation results in anather vector of size dim_out = 100\n",
        "\n",
        "# apply the fully connected operation on your data\n",
        "out = linear_op(data)\n",
        "\n",
        "print(f'input has shape: {data.shape}')\n",
        "print(f'output has shape: {out.shape}')\n"
      ],
      "execution_count": 37,
      "outputs": [
        {
          "output_type": "stream",
          "text": [
            "input has shape: torch.Size([64, 1000])\n",
            "output has shape: torch.Size([64, 100])\n"
          ],
          "name": "stdout"
        }
      ]
    },
    {
      "cell_type": "markdown",
      "metadata": {
        "id": "t-Vm7ZDp7IPS"
      },
      "source": [
        "Now lets define a tensor with more dimensions: $batch\\_{size} \\times H \\times W \\times dim\\_{in}$. This can be seen as a $H \\times W$ map where each point in the map has $dim\\_{in}$ features or can be seen as $H * W$ independent vectors of size $dim\\_{in}$. Now lets apply the same linear, fully-connected function as above, independently on each of these $H * W$ vectors.\n"
      ]
    },
    {
      "cell_type": "code",
      "metadata": {
        "id": "lEmfeImJ6tIf",
        "colab": {
          "base_uri": "https://localhost:8080/"
        },
        "outputId": "d83591b3-268d-492f-8f6f-e9cf674c623a"
      },
      "source": [
        "data2 = torch.rand(args.batch_size, 28, 28, 1000)\n",
        "\n",
        "# We use the same function defined above. It will take as input any tensors with a\n",
        "# fix last dimension (e.g 23x24x1000 or 45x1x1x2x3x1000 as long as the last\n",
        "# dimension is 1000) and independently apply the operations on every point of the map\n",
        "\n",
        "out2 = linear_op(data2)\n",
        "\n",
        "print(f'input has shape: {data2.shape}')\n",
        "print(f'output has shape: {out2.shape}')\n",
        "\n"
      ],
      "execution_count": 38,
      "outputs": [
        {
          "output_type": "stream",
          "text": [
            "input has shape: torch.Size([64, 28, 28, 1000])\n",
            "output has shape: torch.Size([64, 28, 28, 100])\n"
          ],
          "name": "stdout"
        }
      ]
    },
    {
      "cell_type": "markdown",
      "metadata": {
        "id": "9hVTlZx0ZDIi"
      },
      "source": [
        "We  call the $H$ and $W$ dimensions, the spatial dimensions and see the tensor as a 2D map, each point having a number of $dim$ features. We can apply convolutional layers on this type of input."
      ]
    },
    {
      "cell_type": "code",
      "metadata": {
        "id": "YZpUboDOYjzl",
        "colab": {
          "base_uri": "https://localhost:8080/"
        },
        "outputId": "ad9afda2-91b7-459c-d36a-d9cb63bc4839"
      },
      "source": [
        "# data2 has shape [batch_size x H x W x dim_in]\n",
        "# In order to use convolutional operations as defined in pytorch we must place the \n",
        "# channels dimension of the tensor on the second axis. So we transpose \n",
        "# this tensor into another tensor with shape [batch_size x dim_in x H x W]\n",
        "# such that the H x W vectors remain the same, but are arranged in memory in a different order.\n",
        "\n",
        "\n",
        "# !! Attention !! do NOT simply reshape the tensor by doing data2.view(batch_size, dim_in, H, W)! \n",
        "# As sugested by the name, this would just see the same data in different ways, but the underling \n",
        "# data would remain unchange.\n",
        "\n",
        "# eg. the following matrix has dimension 2 x 3, with 2 vectors if size 3: (1,2,3) and (4,5,6)\n",
        "# A = \n",
        "# | 1 2 3 |\n",
        "# | 4 5 6 |\n",
        "# by transposing, we want the same vectors but arraged differently as a 3 x 2 matrix\n",
        "# A.permute(1,0)\n",
        "# | 1 4 |\n",
        "# | 2 5 |\n",
        "# | 3 6 |\n",
        "# by using A.view(3,2) we would obtain\n",
        "# | 1 2 |\n",
        "# | 3 4 |\n",
        "# | 5 6 |\n",
        "\n",
        "A = torch.tensor([[1,2,3],[4,5,6]])\n",
        "print(f'A: {A}')\n",
        "# view() and reshape() are very similar as effect. Both of them rearrange the elements of the tensor \n",
        "# For view, the data is not altered in memory, while the reshape try to do the view if the data \n",
        "# is stored in a contiguous place, but copy the data into a contiguous tensor if it's not already the case\n",
        "print(f'view A: {A.view(3,2)}')\n",
        "print(f'reshape A: {A.reshape(3,2)}')\n",
        "# transpose permute 2 axis of the tensor, while permute is used to permute all the axis \n",
        "# according to a given permutatinon\n",
        "print(f'transpose A: {A.transpose(1,0)}')\n",
        "print(f'permute A: {A.permute(1,0)}')\n",
        "\n",
        "input_map = data2.permute(0,3,1,2) # the previous forth dimmension is now the second\n",
        "print(f'data2 has shape: {data2.shape}')\n",
        "print(f'input_map has shape: {input_map.shape}')\n",
        "\n",
        "# we create a convolutional operation with filters (kernels) of sizes 5 x 5 x in_channels\n",
        "# and we use a number of out_channels such kernels\n",
        "conv1  = nn.Conv2d(in_channels=1000, out_channels=100, kernel_size=5, padding=0)\n",
        "\n",
        "# apply the concolution operation on the input map\n",
        "map1 = conv1(input_map)\n",
        "# observe the size of the resulting map \n",
        "print(f'map1 has shape: {map1.shape}')\n",
        "\n"
      ],
      "execution_count": 39,
      "outputs": [
        {
          "output_type": "stream",
          "text": [
            "A: tensor([[1, 2, 3],\n",
            "        [4, 5, 6]])\n",
            "view A: tensor([[1, 2],\n",
            "        [3, 4],\n",
            "        [5, 6]])\n",
            "reshape A: tensor([[1, 2],\n",
            "        [3, 4],\n",
            "        [5, 6]])\n",
            "transpose A: tensor([[1, 4],\n",
            "        [2, 5],\n",
            "        [3, 6]])\n",
            "permute A: tensor([[1, 4],\n",
            "        [2, 5],\n",
            "        [3, 6]])\n",
            "data2 has shape: torch.Size([64, 28, 28, 1000])\n",
            "input_map has shape: torch.Size([64, 1000, 28, 28])\n",
            "map1 has shape: torch.Size([64, 100, 24, 24])\n"
          ],
          "name": "stdout"
        }
      ]
    },
    {
      "cell_type": "code",
      "metadata": {
        "id": "kMQXMgooZTob",
        "colab": {
          "base_uri": "https://localhost:8080/"
        },
        "outputId": "f105f5e1-f830-4619-c97b-3586ded9c2b9"
      },
      "source": [
        "# lets apply a new convolution layer multiple times, each one reusing\n",
        "# the same function, with the same parameters\n",
        "\n",
        "conv2  = nn.Conv2d(in_channels=100, out_channels=100, kernel_size=5, padding=0)\n",
        "\n",
        "map2 = conv2(map1)\n",
        "map3 = conv2(map2)\n",
        "map4 = conv2(map3)\n",
        "\n",
        "print(f'map2 has shape: {map2.shape}')\n",
        "print(f'map3 has shape: {map3.shape}')\n",
        "print(f'map4 has shape: {map4.shape}')\n",
        "\n",
        "# the 5x5 kernel reduces the size of each of the spatial dimension by 4\n",
        "# why?\n",
        "\n",
        "# we can eliminate the reduction in spatial size resulted by the convolution by using padding\n",
        "conv3  = nn.Conv2d(in_channels=100, out_channels=100, kernel_size=5, padding=2)\n",
        "\n",
        "map5 = conv3(map4)\n",
        "print(f'map5 has shape: {map5.shape}')"
      ],
      "execution_count": 40,
      "outputs": [
        {
          "output_type": "stream",
          "text": [
            "map2 has shape: torch.Size([64, 100, 20, 20])\n",
            "map3 has shape: torch.Size([64, 100, 16, 16])\n",
            "map4 has shape: torch.Size([64, 100, 12, 12])\n",
            "map5 has shape: torch.Size([64, 100, 12, 12])\n"
          ],
          "name": "stdout"
        }
      ]
    },
    {
      "cell_type": "markdown",
      "metadata": {
        "id": "4MSGBLoAZXLG"
      },
      "source": [
        "Although we have applied a succesion of convolutional layers, this is not a really useful convolutional neural network\n",
        "\n",
        "\n",
        "1.   we have used convolutional operations in succesion, without non-linearity in between. As with fully-connected layers, composition of linear operation is a linear operation, so this is equivalent with a single convolution (but with a larger kernel). We need a non-linearity like ReLU in between the convolutional layers\n",
        "\n",
        "\n",
        "2.   we have used the SAME convolutional operation multiple times. While this could be useful in some cases (spoiler: recurrent convolutional networds), this is not the most used case. Generally, we use different operations (having different parameters) at each layer.\n",
        "\n",
        "\n",
        "Also, it is usual to use max-pooling operations, in convolutional networks. This reduces the spatial resolution of the data and gives the network invariance to small translations between the parts.\n",
        "\n",
        "\n",
        "\n"
      ]
    },
    {
      "cell_type": "code",
      "metadata": {
        "id": "ta139UzPZDpN",
        "colab": {
          "base_uri": "https://localhost:8080/"
        },
        "outputId": "be00f5f2-ed0e-409b-9c31-6d7e2671e10f"
      },
      "source": [
        "conv1  = nn.Conv2d(in_channels=1000, out_channels=100, kernel_size=5, padding=0)\n",
        "conv2  = nn.Conv2d(in_channels=100, out_channels=100, kernel_size=5, padding=0)\n",
        "conv3  = nn.Conv2d(in_channels=100, out_channels=100, kernel_size=5, padding=0)\n",
        "\n",
        "map1 = F.relu(conv1(input_map))\n",
        "map2 = F.max_pool2d(map1, 2, 2)\n",
        "map3 = F.relu(conv2(map2))\n",
        "map3 = F.max_pool2d(map3, 2, 2)\n",
        "\n",
        "print(f'map3 shape: {map3.shape}')\n"
      ],
      "execution_count": 41,
      "outputs": [
        {
          "output_type": "stream",
          "text": [
            "map3 shape: torch.Size([64, 100, 4, 4])\n"
          ],
          "name": "stdout"
        }
      ]
    },
    {
      "cell_type": "markdown",
      "metadata": {
        "id": "rkHYLuGnnuUQ"
      },
      "source": [
        "For classification problems, when we have K classes, we want to predict a vector of size K,  where dimension k represents the probability of class k.\n",
        "\n",
        "Thus, for every sample in the batch, we want one K dimensional vector. Lets take our map3 tensor of size $batch\\_{size} \n",
        "\\times 4 \\times 4 \\times 100$ as example. \n",
        "\n",
        "We can predict a vector representing the probability of each classes in two ways:\n",
        "1. linearise every sample of size $4 \\times 4 \\times 100$ as a vector of size $4 * 4 * 100 = 1600$ elements and use a fully connected layer to predict the desired output\n",
        "\n",
        "2. process every sample  $4 \\times 4 \\times 100$ with a convolution large enough such that it takes into consideration the whole input. Thus we must use convolutions with filters $4 \\times 4$. Having the filters dimension the same as the spatial dimensions of the input results in a single output for both spatial dimensions, thus the output is a map of size $1 \\times 1$.\n",
        "\n",
        "\n",
        "QUESTION: how does the two aproaches differ?\n",
        "\n",
        "3. apply a $4 \\times 4$ mean-pooling on the spatial dimension to aggregate the information from the entire map into a single vector, then predict the desired output from it. This is lighter in terms of parameters, but it loses teh spatial information."
      ]
    },
    {
      "cell_type": "code",
      "metadata": {
        "id": "EvaphhKtpZch",
        "colab": {
          "base_uri": "https://localhost:8080/"
        },
        "outputId": "76da2c4f-a535-4401-9857-55916f9d84e2"
      },
      "source": [
        "fully = nn.Linear(in_features = 4*4*100, out_features = 10)\n",
        "conv = nn.Conv2d(in_channels=100, out_channels=10, kernel_size=4, padding=0)\n",
        "\n",
        "map3_linearised = map3.view(args.batch_size,-1)\n",
        "print(f'map3_linearised shape: {map3_linearised.shape}')\n",
        "\n",
        "out1 = fully(map3_linearised)\n",
        "out2 = conv(map3)\n",
        "\n",
        "print(f'out1 shape: {out1.shape}')\n",
        "print(f'out2 shape: {out2.shape}')\n",
        "\n",
        "\n"
      ],
      "execution_count": 42,
      "outputs": [
        {
          "output_type": "stream",
          "text": [
            "map3_linearised shape: torch.Size([64, 1600])\n",
            "out1 shape: torch.Size([64, 10])\n",
            "out2 shape: torch.Size([64, 10, 1, 1])\n"
          ],
          "name": "stdout"
        }
      ]
    },
    {
      "cell_type": "markdown",
      "metadata": {
        "id": "oJN8164xxirX"
      },
      "source": [
        "\n",
        "\n",
        "\n",
        "# > MNIST classification\n",
        "\n",
        "\n",
        "---\n",
        "We will train a convolutional network to classify digits. The architecture should be similar to:\n",
        "  - conv layer: 20 filters, kernel size: 5x5, stride:1\n",
        "  - relu\n",
        "  - max pool: kernel size: 2x2, stride:2\n",
        "  - conv layer: 50 filters, kernel size: 5x5, stride:1\n",
        "  - relu\n",
        "  - max pool: kernel size: 2x2, stride:2\n",
        "  - fully connected: 500 neurons\n",
        "  - relu\n",
        "  - fully connected: 10 neurons\n",
        "  - log softmax\n",
        "   \n",
        "  "
      ]
    },
    {
      "cell_type": "code",
      "metadata": {
        "id": "uwxfGRluebjs"
      },
      "source": [
        "no_filters1 = 20\n",
        "no_filter2 = 50\n",
        "no_neurons1 = 500\n",
        "class CNN(nn.Module):\n",
        "    # the init() is called a single time, when you create the model\n",
        "    # so all the layers should be created here.\n",
        "    def __init__(self):\n",
        "        super().__init__()\n",
        "        self.conv1 = nn.Conv2d(in_channels = 1, out_channels = no_filters1, kernel_size = 5, stride = 1)\n",
        "        self.conv2 = nn.Conv2d(no_filters1, no_filter2, 5, 1)\n",
        "        self.fc1 = nn.Linear(in_features = 4 * 4 * no_filter2, out_features = no_neurons1)\n",
        "        self.fc2 = nn.Linear(in_features = no_neurons1, out_features = 10)\n",
        "    # the forward() is called at each iteration, so we only apply the already\n",
        "    # created operations inside this function \n",
        "    def forward(self, x):\n",
        "        x = F.relu(self.conv1(x))\n",
        "        x = F.max_pool2d(x, 2, 2)\n",
        "        x = F.relu(self.conv2(x))\n",
        "        x = F.max_pool2d(x, 2, 2)\n",
        "        x = x.view(-1, 4*4*no_filter2)\n",
        "        x = F.relu(self.fc1(x))\n",
        "        x = F.dropout(x, p=0.75)\n",
        "        x = self.fc2(x)\n",
        "        return F.log_softmax(x, dim=1)"
      ],
      "execution_count": 43,
      "outputs": []
    },
    {
      "cell_type": "markdown",
      "metadata": {
        "id": "Qd4c0kf_fM5d"
      },
      "source": [
        "Load MNIST dataset containing drawn digits with a total of 50k training samples and 10k testing samples. Each image has one channel and 28x28 pixels.\n"
      ]
    },
    {
      "cell_type": "code",
      "metadata": {
        "colab": {
          "base_uri": "https://localhost:8080/"
        },
        "id": "7ynOv7v0EuGG",
        "outputId": "d50b7e70-7cb3-4d46-9a45-6d201f160262"
      },
      "source": [
        "!wget www.di.ens.fr/~lelarge/MNIST.tar.gz\n",
        "!tar -zxvf MNIST.tar.gz"
      ],
      "execution_count": 44,
      "outputs": [
        {
          "output_type": "stream",
          "text": [
            "--2021-04-01 19:21:06--  http://www.di.ens.fr/~lelarge/MNIST.tar.gz\n",
            "Resolving www.di.ens.fr (www.di.ens.fr)... 129.199.99.14\n",
            "Connecting to www.di.ens.fr (www.di.ens.fr)|129.199.99.14|:80... connected.\n",
            "HTTP request sent, awaiting response... 302 Found\n",
            "Location: https://www.di.ens.fr/~lelarge/MNIST.tar.gz [following]\n",
            "--2021-04-01 19:21:07--  https://www.di.ens.fr/~lelarge/MNIST.tar.gz\n",
            "Connecting to www.di.ens.fr (www.di.ens.fr)|129.199.99.14|:443... connected.\n",
            "HTTP request sent, awaiting response... 200 OK\n",
            "Length: unspecified [application/x-gzip]\n",
            "Saving to: ‘MNIST.tar.gz.3’\n",
            "\n",
            "MNIST.tar.gz.3          [             <=>    ]  33.20M  11.9MB/s    in 2.8s    \n",
            "\n",
            "2021-04-01 19:21:10 (11.9 MB/s) - ‘MNIST.tar.gz.3’ saved [34813078]\n",
            "\n",
            "MNIST/\n",
            "MNIST/raw/\n",
            "MNIST/raw/train-labels-idx1-ubyte\n",
            "MNIST/raw/t10k-labels-idx1-ubyte.gz\n",
            "MNIST/raw/t10k-labels-idx1-ubyte\n",
            "MNIST/raw/t10k-images-idx3-ubyte.gz\n",
            "MNIST/raw/train-images-idx3-ubyte\n",
            "MNIST/raw/train-labels-idx1-ubyte.gz\n",
            "MNIST/raw/t10k-images-idx3-ubyte\n",
            "MNIST/raw/train-images-idx3-ubyte.gz\n",
            "MNIST/processed/\n",
            "MNIST/processed/training.pt\n",
            "MNIST/processed/test.pt\n"
          ],
          "name": "stdout"
        }
      ]
    },
    {
      "cell_type": "code",
      "metadata": {
        "id": "7A_euLmSfGWY",
        "colab": {
          "base_uri": "https://localhost:8080/",
          "height": 126
        },
        "outputId": "0611d2b2-aaae-46d6-dc99-cddcb46a2324"
      },
      "source": [
        "# we create a loader to iterate through the dataset\n",
        "train_loader = torch.utils.data.DataLoader(\n",
        "    datasets.MNIST('./', train=True, download=True,\n",
        "                   transform=transforms.Compose([\n",
        "                       transforms.ToTensor(),\n",
        "                       \n",
        "                   ])),\n",
        "    batch_size=args.batch_size, shuffle=True,drop_last=True, **kwargs)\n",
        "\n",
        "test_loader = torch.utils.data.DataLoader(\n",
        "    datasets.MNIST('./', train=False, transform=transforms.Compose([\n",
        "                       transforms.ToTensor(),\n",
        "                   ])),\n",
        "    batch_size=args.test_batch_size, shuffle=False,drop_last=True, **kwargs)\n",
        "\n",
        "first_train_batch_imgs, first_train_batch_labels = next(iter(train_loader))\n",
        "# set_trace()\n",
        "\n",
        "f, axarr = pyplot.subplots(1,5)\n",
        "for i in range(5):\n",
        "  axarr[i].imshow(first_train_batch_imgs[i,0])\n",
        "print(f'Labels of the shown images: {first_train_batch_labels[:5]}')\n"
      ],
      "execution_count": 45,
      "outputs": [
        {
          "output_type": "stream",
          "text": [
            "Labels of the shown images: tensor([0, 7, 1, 0, 0])\n"
          ],
          "name": "stdout"
        },
        {
          "output_type": "display_data",
          "data": {
            "image/png": "[encoded data removed]",
            "text/plain": [
              "<Figure size 432x288 with 5 Axes>"
            ]
          },
          "metadata": {
            "tags": [],
            "needs_background": "light"
          }
        }
      ]
    },
    {
      "cell_type": "markdown",
      "metadata": {
        "id": "pWAKQ6ORT0_X"
      },
      "source": [
        "Train Convolutional network for MNIST classification."
      ]
    },
    {
      "cell_type": "code",
      "metadata": {
        "id": "llHthpCfefit"
      },
      "source": [
        "# define two functions, one for training the model and one for testing it\n",
        "\n",
        "def train(args, model, device, train_loader, optimizer, epoch):\n",
        "    model.train()\n",
        "    all_losses = []\n",
        "    for batch_idx, (data, target) in enumerate(train_loader):\n",
        "        # put the data on the GPU\n",
        "        data, target = data.to(device), target.to(device)\n",
        "        # initialize as zeros all the gradients of the model\n",
        "        optimizer.zero_grad()\n",
        "        \n",
        "        # obtain the predictions in the FORWARD pass of the network\n",
        "        output = model(data)\n",
        "        # compute average LOSS for the current batch\n",
        "        loss = F.nll_loss(output, target)\n",
        "        all_losses.append(loss.detach().cpu().numpy())\n",
        "        # BACKPROPAGATE the gradients\n",
        "        loss.backward()\n",
        "        # use the computed gradients to OPTIMISE the model\n",
        "        optimizer.step()\n",
        "        # print the training loss of each batch\n",
        "        if batch_idx % args.log_interval == 0:\n",
        "            print('Train Epoch: {} [{}/{} ({:.0f}%)]\\tLoss: {:.6f}'.format(\n",
        "                epoch, batch_idx * len(data), len(train_loader.dataset),\n",
        "                100. * batch_idx / len(train_loader), loss.item()))\n",
        "    return np.array(all_losses).mean()\n",
        "\n",
        "def test(args, model, device, test_loader):\n",
        "    model.eval()\n",
        "    test_loss = 0\n",
        "    correct = 0\n",
        "    with torch.no_grad():\n",
        "        num_iter = 0\n",
        "        for data, target in test_loader:\n",
        "            data, target = data.to(device), target.to(device)\n",
        "            # obtain the prediction by a forward pass\n",
        "            output = model(data)\n",
        "            # calculate the loss for the current batch and add it across the entire dataset\n",
        "            test_loss += F.nll_loss(output, target) # sum up batch loss\n",
        "            # compute the accuracy of the predictions across the entire dataset\n",
        "            # get the most probable prediction\n",
        "            pred = output.argmax(dim=1, keepdim=True) # get the index of the max log-probability\n",
        "            correct += pred.eq(target.view_as(pred)).float().mean().item()\n",
        "            num_iter += 1\n",
        "    test_loss /= num_iter\n",
        "    test_accuracy = 100. * correct / num_iter\n",
        "    # print the Accuracy for the entire dataset\n",
        "    print('\\nTest set: Average loss: {:.4f}, Accuracy: ({:.0f}%)\\n'.format(\n",
        "        test_loss,\n",
        "        test_accuracy))\n",
        "    return test_loss, test_accuracy"
      ],
      "execution_count": 46,
      "outputs": []
    },
    {
      "cell_type": "markdown",
      "metadata": {
        "id": "EvKyqameBaO7"
      },
      "source": [
        "Create an optimizer and call the training / testing functions."
      ]
    },
    {
      "cell_type": "code",
      "metadata": {
        "id": "opQ8sJzecVYu",
        "colab": {
          "base_uri": "https://localhost:8080/",
          "height": 1000
        },
        "outputId": "05071c29-348f-4dfc-c065-2cce0f14c30e"
      },
      "source": [
        "def plot_loss(loss, label, color='blue'):\n",
        "    pyplot.plot(loss, label=label, color=color)\n",
        "    pyplot.legend()\n",
        "\n",
        "# move the model to the GPU (when available)\n",
        "model = CNN().to(device)\n",
        "# create an Stochastic Gradient Descent optimiser\n",
        "optimizer = optim.SGD(model.parameters(), lr=args.lr, momentum=args.momentum)\n",
        "\n",
        "losses_train = []\n",
        "losses_test = []\n",
        "accuracy_test = []\n",
        "for epoch in range(1, args.epochs + 1):\n",
        "# for epoch in range(1, 3):\n",
        "    train_loss = train(args, model, device, train_loader, optimizer, epoch)\n",
        "    test_loss, test_accuracy = test(args, model, device, test_loader)\n",
        "    losses_train.append(train_loss)\n",
        "    losses_test.append(test_loss)\n",
        "    accuracy_test.append(test_accuracy)\n",
        "\n",
        "#plot the loss/accuracy    \n",
        "pyplot.figure(1)\n",
        "plot_loss(losses_train,'train_loss','red')\n",
        "plot_loss(losses_test,'test_loss')\n",
        "pyplot.figure(2)\n",
        "plot_loss(accuracy_test,'test_accuracy')\n",
        "\n",
        "# save the final model\n",
        "torch.save(model.state_dict(),\"mnist_cnn.pt\")\n",
        "\n",
        "\n"
      ],
      "execution_count": 47,
      "outputs": [
        {
          "output_type": "stream",
          "text": [
            "Train Epoch: 1 [0/60000 (0%)]\tLoss: 2.308650\n",
            "Train Epoch: 1 [9984/60000 (17%)]\tLoss: 0.412927\n",
            "Train Epoch: 1 [19968/60000 (33%)]\tLoss: 0.166981\n",
            "Train Epoch: 1 [29952/60000 (50%)]\tLoss: 0.160213\n",
            "Train Epoch: 1 [39936/60000 (67%)]\tLoss: 0.158168\n",
            "Train Epoch: 1 [49920/60000 (83%)]\tLoss: 0.245158\n",
            "Train Epoch: 1 [59904/60000 (100%)]\tLoss: 0.135008\n",
            "\n",
            "Test set: Average loss: 0.1195, Accuracy: (96%)\n",
            "\n",
            "Train Epoch: 2 [0/60000 (0%)]\tLoss: 0.095173\n",
            "Train Epoch: 2 [9984/60000 (17%)]\tLoss: 0.131568\n",
            "Train Epoch: 2 [19968/60000 (33%)]\tLoss: 0.036893\n",
            "Train Epoch: 2 [29952/60000 (50%)]\tLoss: 0.179712\n",
            "Train Epoch: 2 [39936/60000 (67%)]\tLoss: 0.109405\n",
            "Train Epoch: 2 [49920/60000 (83%)]\tLoss: 0.098016\n",
            "Train Epoch: 2 [59904/60000 (100%)]\tLoss: 0.189529\n",
            "\n",
            "Test set: Average loss: 0.0791, Accuracy: (98%)\n",
            "\n",
            "Train Epoch: 3 [0/60000 (0%)]\tLoss: 0.095048\n",
            "Train Epoch: 3 [9984/60000 (17%)]\tLoss: 0.084725\n",
            "Train Epoch: 3 [19968/60000 (33%)]\tLoss: 0.052539\n",
            "Train Epoch: 3 [29952/60000 (50%)]\tLoss: 0.043594\n",
            "Train Epoch: 3 [39936/60000 (67%)]\tLoss: 0.013671\n",
            "Train Epoch: 3 [49920/60000 (83%)]\tLoss: 0.018920\n",
            "Train Epoch: 3 [59904/60000 (100%)]\tLoss: 0.199984\n",
            "\n",
            "Test set: Average loss: 0.0621, Accuracy: (98%)\n",
            "\n"
          ],
          "name": "stdout"
        },
        {
          "output_type": "display_data",
          "data": {
            "image/png": "[encoded data removed]",
            "text/plain": [
              "<Figure size 432x288 with 1 Axes>"
            ]
          },
          "metadata": {
            "tags": [],
            "needs_background": "light"
          }
        },
        {
          "output_type": "display_data",
          "data": {
            "image/png": "[encoded data removed]",
            "text/plain": [
              "<Figure size 432x288 with 1 Axes>"
            ]
          },
          "metadata": {
            "tags": [],
            "needs_background": "light"
          }
        }
      ]
    },
    {
      "cell_type": "code",
      "metadata": {
        "id": "1VDm-cm42s9j"
      },
      "source": [
        ""
      ],
      "execution_count": 47,
      "outputs": []
    }
  ]
}